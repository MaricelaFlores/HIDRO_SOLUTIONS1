{
 "cells": [
  {
   "cell_type": "code",
   "execution_count": 22,
   "metadata": {},
   "outputs": [
    {
     "name": "stdout",
     "output_type": "stream",
     "text": [
      "completado\n"
     ]
    }
   ],
   "source": [
    "def resumen(campo_resumen,tabla_res,directorio,nombre_pol,directorio_1,nombre_tab,campo_res):\n",
    "    output_pol = directorio+'\\\\'+nombre_pol\n",
    "    output_tab = directorio_1+'\\\\'+nombre_tab\n",
    "    arcpy.analysis.SummarizeWithin(\"COMUNAS_RM\",\n",
    "                                   tabla_res,\n",
    "                                   output_pol,\n",
    "                                   \"KEEP_ALL\",\n",
    "                                   campo_resumen,\n",
    "                                   \"ADD_SHAPE_SUM\",\n",
    "                                   \"SQUAREKILOMETERS\",\n",
    "                                   campo_res,\n",
    "                                   \"NO_MIN_MAJ\",\n",
    "                                   \"NO_PERCENT\",\n",
    "                                   output_tab)\n",
    "    return \n",
    "directorio_1 = r\"C:\\\\Users\\\\aleja\\\\Desktop\\\\DAG\\\\AYUDANTIA\\AYUDANTIA_3\\\\Tarea_3_Maricela_Flores\\\\Tarea_3_Maricela_Flores.gdb\"\n",
    "directorio = r\"C:\\\\Users\\\\aleja\\\\Desktop\\\\DAG\\\\AYUDANTIA\\AYUDANTIA_3\\\\Tarea_3_Maricela_Flores\\\\Tarea_3_Maricela_Flores.gdb\\\\CAPAS_SALIDAS\"\n",
    "resumen(\"Accidentes Sum\",\"ptos_criticosGS2016_2\",directorio,\"pol_res_acc_tot\",directorio_1,\"tab_res_acc_tot\",\"COD_COMUNA\")\n",
    "resumen(\"Acc_graves Sum\",\"ptos_criticosGS2016_2\",directorio,\"pol_res_acc_gra\",directorio_1,\"tab_res_acc_gra\",\"COD_COMUNA\")\n",
    "resumen(\"Acc_menos_grav Sum\",\"ptos_criticosGS2016_2\",directorio,\"pol_res_acc_me_gr\",directorio_1,\"tab_res_acc_me_gr\",\"COD_COMUNA\")\n",
    "resumen(\"Acc_leves Sum\",\"ptos_criticosGS2016_2\",directorio,\"pol_res_acc_lev\",directorio_1,\"tab_res_acc_lev\",\"COD_COMUNA\")\n",
    "print(\"completado\")"
   ]
  },
  {
   "cell_type": "code",
   "execution_count": 16,
   "metadata": {},
   "outputs": [
    {
     "data": {
      "text/html": [
       "<div class='gpresult'><h2>Messages</h2><div id='messages' data-messages='[\"Tiempo de Inicio: jueves, 27 de julio de 2023 21:47:34\",\"Agregando etiqueta a pol_res_acc_tot...\",\"Completado correctamente el jueves, 27 de julio de 2023 21:47:34 (Tiempo transcurrido: 0.13 segundos)\"]' data-show='true'><div id = 'default' /></div></div>"
      ],
      "text/plain": [
       "<Result 'pol_res_acc_tot'>"
      ]
     },
     "execution_count": 16,
     "metadata": {},
     "output_type": "execute_result"
    }
   ],
   "source": [
    "arcpy.management.CalculateField(\"pol_res_acc_tot\",\n",
    "                                \"etiqueta\",\n",
    "                                \"condicion(!sum_accidentes!)\",\n",
    "                                \"PYTHON3\",\n",
    "                                \"\"\"def condicion(x):\n",
    "    if x<100:\n",
    "        etiqueta = \"Bajo\"\n",
    "    elif x>99 and x<500:\n",
    "        etiqueta = \"Medio\"\n",
    "    else:\n",
    "        etiqueta = \"Alto\" \"\"\",\n",
    "                                \"TEXT\",\n",
    "                                \"NO_ENFORCE_DOMAINS\")"
   ]
  },
  {
   "cell_type": "code",
   "execution_count": 23,
   "metadata": {},
   "outputs": [
    {
     "name": "stdout",
     "output_type": "stream",
     "text": [
      "completado\n"
     ]
    }
   ],
   "source": [
    "resumen(\"TOTAL_PERS Sum\",\"MANZANA_IND_C17\",directorio,\"pol_pob_com\",directorio_1,\"tab_pob_com\",\"COMUNA\")\n",
    "arcpy.management.AddJoin(\"pol_res_acc_tot\",\n",
    "                         \"cod_comuna\",\n",
    "                         \"pol_pob_com\",\n",
    "                         \"cod_comuna\",\n",
    "                         \"KEEP_ALL\",\n",
    "                         \"INDEX_JOIN_FIELDS\")\n",
    "arcpy.management.CalculateField(\"pol_res_acc_tot\",\n",
    "                                \"porcentaje\",\n",
    "                                \"porcentaje(!pol_res_acc_tot.sum_accidentes!,!pol_pob_com.sum_total_pers!)\", \"PYTHON3\", \"\"\"def porcentaje(acc,per):\n",
    "    if per == 0:\n",
    "        calculo = 0\n",
    "        return calculo\n",
    "    else:\n",
    "        calculo = (acc/per)*100\n",
    "        return calculo\"\"\",\n",
    "                                \"DOUBLE\",\n",
    "                                \"NO_ENFORCE_DOMAINS\")\n",
    "print(\"completado\")\n"
   ]
  },
  {
   "cell_type": "code",
   "execution_count": 28,
   "metadata": {},
   "outputs": [
    {
     "name": "stdout",
     "output_type": "stream",
     "text": [
      "CHOQUE FRENTE/POSTERIOR: 2\n",
      "ATROPELLO: 12\n",
      "COLISION LATERAL: 54\n",
      "COLISION POR ALCANCE: 18\n",
      "CHOQUE FRONTAL: 2\n",
      "COLISION: 22\n",
      "IMPACTO CON ANIMAL: 1\n",
      "COLISION FRONTAL: 4\n",
      "CHOQUE FRENTE/FRENTE: 2\n",
      "OTRO TIPO: 2\n",
      "CHOQUE: 1\n",
      "CHOQUE LADO/LADO: 1\n",
      "CHOQUE POSTERIOR/FRENTE: 2\n",
      "CAIDA: 1\n",
      "CHOQUE LADO/FRENTE: 1\n",
      "VOLCADURA: 1\n",
      "CHOQUE LATERAL: 1\n"
     ]
    }
   ],
   "source": [
    "import arcpy\n",
    "from collections import Counter\n",
    "name_out=acc_com_sant\n",
    "out_dir=directorio+'\\\\'+name_out\n",
    "arcpy.analysis.Intersect(\"COMUNAS_RM #;ptos_criticosGS2016_2 #\",\n",
    "                         out_dir,\n",
    "                         \"ALL\",\n",
    "                         None,\n",
    "                         \"INPUT\")\n",
    "\n",
    "\n",
    "campo = [row[0] for row in arcpy.da.SearchCursor(\"acc_com_sant\", [\"TIPO_ACCID\"])]\n",
    "conteo = Counter(campo)\n",
    "for valor, cantidad in conteo.items():\n",
    "    print(f\"{valor}: {cantidad}\")\n"
   ]
  },
  {
   "cell_type": "code",
   "execution_count": null,
   "metadata": {},
   "outputs": [],
   "source": []
  }
 ],
 "metadata": {
  "kernelspec": {
   "display_name": "ArcGISPro",
   "language": "Python",
   "name": "python3"
  },
  "language_info": {
   "file_extension": ".py",
   "name": "python",
   "version": "3"
  }
 },
 "nbformat": 4,
 "nbformat_minor": 2
}
